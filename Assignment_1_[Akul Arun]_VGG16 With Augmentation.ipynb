{
 "cells": [
  {
   "cell_type": "code",
   "execution_count": 1,
   "id": "e4f05708",
   "metadata": {},
   "outputs": [],
   "source": [
    "# Import the Required Packages\n",
    "from tensorflow import keras\n",
    "from tensorflow.keras import layers, models, optimizers\n",
    "from tensorflow.keras.preprocessing.image import ImageDataGenerator\n",
    "from tensorflow.keras.callbacks import ModelCheckpoint, Callback\n",
    "\n",
    "import numpy as np\n",
    "import matplotlib.pyplot as plt\n",
    "from sklearn.metrics import confusion_matrix\n",
    "from sklearn.metrics import classification_report\n",
    "import csv\n",
    "import os"
   ]
  },
  {
   "cell_type": "markdown",
   "id": "e5f96ef2",
   "metadata": {},
   "source": [
    "## Step 1: Data Loading"
   ]
  },
  {
   "cell_type": "code",
   "execution_count": 2,
   "id": "ee6adcd1",
   "metadata": {},
   "outputs": [],
   "source": [
    "train_dir = os.path.join(os.getcwd(), 'train')\n",
    "test_dir = os.path.join(os.getcwd(), 'test')\n",
    "validation_dir = os.path.join(os.getcwd(), 'validation')"
   ]
  },
  {
   "cell_type": "markdown",
   "id": "890a781e",
   "metadata": {},
   "source": [
    "### VGG16 PRETRAIN MODEL Base"
   ]
  },
  {
   "cell_type": "code",
   "execution_count": 3,
   "id": "d4a14e1a",
   "metadata": {},
   "outputs": [],
   "source": [
    "img_size = 224\n",
    "\n",
    "from tensorflow.keras.applications import VGG16\n",
    "\n",
    "vgg_base = VGG16(weights='imagenet',\n",
    "                  include_top=False,\n",
    "                  input_shape=(img_size, img_size, 3))"
   ]
  },
  {
   "cell_type": "code",
   "execution_count": 4,
   "id": "ae0cf8c5",
   "metadata": {},
   "outputs": [
    {
     "name": "stdout",
     "output_type": "stream",
     "text": [
      "Model: \"vgg16\"\n",
      "_________________________________________________________________\n",
      " Layer (type)                Output Shape              Param #   \n",
      "=================================================================\n",
      " input_1 (InputLayer)        [(None, 224, 224, 3)]     0         \n",
      "                                                                 \n",
      " block1_conv1 (Conv2D)       (None, 224, 224, 64)      1792      \n",
      "                                                                 \n",
      " block1_conv2 (Conv2D)       (None, 224, 224, 64)      36928     \n",
      "                                                                 \n",
      " block1_pool (MaxPooling2D)  (None, 112, 112, 64)      0         \n",
      "                                                                 \n",
      " block2_conv1 (Conv2D)       (None, 112, 112, 128)     73856     \n",
      "                                                                 \n",
      " block2_conv2 (Conv2D)       (None, 112, 112, 128)     147584    \n",
      "                                                                 \n",
      " block2_pool (MaxPooling2D)  (None, 56, 56, 128)       0         \n",
      "                                                                 \n",
      " block3_conv1 (Conv2D)       (None, 56, 56, 256)       295168    \n",
      "                                                                 \n",
      " block3_conv2 (Conv2D)       (None, 56, 56, 256)       590080    \n",
      "                                                                 \n",
      " block3_conv3 (Conv2D)       (None, 56, 56, 256)       590080    \n",
      "                                                                 \n",
      " block3_pool (MaxPooling2D)  (None, 28, 28, 256)       0         \n",
      "                                                                 \n",
      " block4_conv1 (Conv2D)       (None, 28, 28, 512)       1180160   \n",
      "                                                                 \n",
      " block4_conv2 (Conv2D)       (None, 28, 28, 512)       2359808   \n",
      "                                                                 \n",
      " block4_conv3 (Conv2D)       (None, 28, 28, 512)       2359808   \n",
      "                                                                 \n",
      " block4_pool (MaxPooling2D)  (None, 14, 14, 512)       0         \n",
      "                                                                 \n",
      " block5_conv1 (Conv2D)       (None, 14, 14, 512)       2359808   \n",
      "                                                                 \n",
      " block5_conv2 (Conv2D)       (None, 14, 14, 512)       2359808   \n",
      "                                                                 \n",
      " block5_conv3 (Conv2D)       (None, 14, 14, 512)       2359808   \n",
      "                                                                 \n",
      " block5_pool (MaxPooling2D)  (None, 7, 7, 512)         0         \n",
      "                                                                 \n",
      "=================================================================\n",
      "Total params: 14,714,688\n",
      "Trainable params: 14,714,688\n",
      "Non-trainable params: 0\n",
      "_________________________________________________________________\n"
     ]
    }
   ],
   "source": [
    "vgg_base.summary()"
   ]
  },
  {
   "cell_type": "markdown",
   "id": "774d3b95",
   "metadata": {},
   "source": [
    "### feature extraction with basic augmentation With VGG16"
   ]
  },
  {
   "cell_type": "code",
   "execution_count": null,
   "id": "9115db7f",
   "metadata": {},
   "outputs": [],
   "source": [
    "# features shape need to follow model last layer\n",
    "# Need to add a comma and 10 for labels shape as there are 10 classes for the dataset\n",
    "\n",
    "datagen = ImageDataGenerator(rescale=1./255)\n",
    "batch_size = 32\n",
    "\n",
    "def extract_features(directory, sample_count):\n",
    "    features = np.zeros(shape=(sample_count, 7, 7, 512))\n",
    "    labels = np.zeros(shape=(sample_count,10))\n",
    "    generator = datagen.flow_from_directory(\n",
    "        directory,\n",
    "        target_size=(img_size, img_size),\n",
    "        batch_size=batch_size,\n",
    "        class_mode='categorical')\n",
    "    i = 0\n",
    "    for inputs_batch, labels_batch in generator:\n",
    "        features_batch = vgg_base.predict(inputs_batch)\n",
    "        features[i * batch_size : (i + 1) * batch_size] = features_batch\n",
    "        labels[i * batch_size : (i + 1) * batch_size] = labels_batch\n",
    "        i += 1\n",
    "        if i * batch_size >= sample_count:\n",
    "            # Note that since generators yield data indefinitely in a loop,\n",
    "            # we must `break` after every image has been seen once.\n",
    "            break\n",
    "    return features, labels"
   ]
  },
  {
   "cell_type": "code",
   "execution_count": null,
   "id": "5babbbda",
   "metadata": {},
   "outputs": [],
   "source": [
    "train_features, train_labels = extract_features(train_dir, 7500)\n",
    "validation_features, validation_labels = extract_features(validation_dir, 2000)\n",
    "test_features, test_labels = extract_features(test_dir, 500)"
   ]
  },
  {
   "cell_type": "code",
   "execution_count": null,
   "id": "52563abf",
   "metadata": {},
   "outputs": [],
   "source": [
    "print(train_features.shape)\n",
    "print(train_labels.shape)"
   ]
  },
  {
   "cell_type": "code",
   "execution_count": null,
   "id": "66f1bb74",
   "metadata": {},
   "outputs": [],
   "source": [
    "train_features = np.reshape(train_features, (7500, 7 * 7 * 512))\n",
    "validation_features = np.reshape(validation_features, (2000, 7 * 7 * 512))\n",
    "test_features = np.reshape(test_features, (500, 7 * 7 * 512))"
   ]
  },
  {
   "cell_type": "markdown",
   "id": "a6db3039",
   "metadata": {},
   "source": [
    "### Build the Model"
   ]
  },
  {
   "cell_type": "code",
   "execution_count": 5,
   "id": "8636239b",
   "metadata": {},
   "outputs": [],
   "source": [
    "from tensorflow.keras import models\n",
    "from tensorflow.keras import layers\n",
    "\n",
    "vgg_base.trainable = False\n",
    "\n",
    "vgg_2 = models.Sequential()\n",
    "vgg_2.add(vgg_base)\n",
    "vgg_2.add(layers.Flatten())\n",
    "vgg_2.add(layers.Dense(256, activation='relu'))\n",
    "vgg_2.add(layers.Dense(10, activation='softmax'))"
   ]
  },
  {
   "cell_type": "code",
   "execution_count": 6,
   "id": "c5ae2c44",
   "metadata": {},
   "outputs": [
    {
     "name": "stdout",
     "output_type": "stream",
     "text": [
      "Model: \"sequential\"\n",
      "_________________________________________________________________\n",
      " Layer (type)                Output Shape              Param #   \n",
      "=================================================================\n",
      " vgg16 (Functional)          (None, 7, 7, 512)         14714688  \n",
      "                                                                 \n",
      " flatten (Flatten)           (None, 25088)             0         \n",
      "                                                                 \n",
      " dense (Dense)               (None, 256)               6422784   \n",
      "                                                                 \n",
      " dense_1 (Dense)             (None, 10)                2570      \n",
      "                                                                 \n",
      "=================================================================\n",
      "Total params: 21,140,042\n",
      "Trainable params: 6,425,354\n",
      "Non-trainable params: 14,714,688\n",
      "_________________________________________________________________\n"
     ]
    }
   ],
   "source": [
    "vgg_2.summary()"
   ]
  },
  {
   "cell_type": "code",
   "execution_count": 7,
   "id": "e46bee35",
   "metadata": {},
   "outputs": [],
   "source": [
    "vgg_2.compile(loss='categorical_crossentropy',\n",
    "              optimizer=optimizers.Adam(learning_rate=0.001), # set learning rate to adam & lr of 0.001\n",
    "              metrics=['acc'])"
   ]
  },
  {
   "cell_type": "code",
   "execution_count": 8,
   "id": "45aa25e7",
   "metadata": {},
   "outputs": [
    {
     "name": "stdout",
     "output_type": "stream",
     "text": [
      "Found 7500 images belonging to 10 classes.\n",
      "Found 2000 images belonging to 10 classes.\n",
      "Found 500 images belonging to 10 classes.\n"
     ]
    }
   ],
   "source": [
    "# Testing basic augmentations\n",
    "\n",
    "from tensorflow.keras.preprocessing.image import ImageDataGenerator\n",
    "\n",
    "train_datagen = ImageDataGenerator(\n",
    "    rescale=1./255,\n",
    "    rotation_range=20,\n",
    "    width_shift_range=0.2,\n",
    "    height_shift_range=0.2,\n",
    "    shear_range=0.2,\n",
    "    zoom_range=0.2,\n",
    "    horizontal_flip=True,)\n",
    "\n",
    "validation_datagen = ImageDataGenerator(rescale=1./255)\n",
    "test_datagen = ImageDataGenerator(rescale=1./255)\n",
    "\n",
    "train_generator = train_datagen.flow_from_directory(\n",
    "        # This is the target directory\n",
    "        train_dir,\n",
    "        # All images will be resized to 150x150\n",
    "        target_size=(img_size, img_size),\n",
    "        batch_size=32,\n",
    "        class_mode='categorical')\n",
    "\n",
    "validation_generator = validation_datagen.flow_from_directory(\n",
    "        validation_dir,\n",
    "        target_size=(img_size, img_size),\n",
    "        batch_size=32,\n",
    "        class_mode='categorical')\n",
    "\n",
    "test_generator = test_datagen.flow_from_directory(\n",
    "    test_dir,\n",
    "    target_size=(img_size, img_size),\n",
    "    batch_size=32,\n",
    "    class_mode='categorical')\n"
   ]
  },
  {
   "cell_type": "code",
   "execution_count": 9,
   "id": "e3165004",
   "metadata": {
    "scrolled": true
   },
   "outputs": [
    {
     "name": "stdout",
     "output_type": "stream",
     "text": [
      "Epoch 1/30\n",
      "235/235 [==============================] - ETA: 0s - loss: 1.7254 - acc: 0.4687\n",
      "Epoch 1: val_loss improved from inf to 1.11152, saving model to vgg_augmentation_basic.keras\n",
      "235/235 [==============================] - 109s 434ms/step - loss: 1.7254 - acc: 0.4687 - val_loss: 1.1115 - val_acc: 0.6270\n",
      "Epoch 2/30\n",
      "235/235 [==============================] - ETA: 0s - loss: 1.1658 - acc: 0.6071\n",
      "Epoch 2: val_loss improved from 1.11152 to 1.07753, saving model to vgg_augmentation_basic.keras\n",
      "235/235 [==============================] - 105s 447ms/step - loss: 1.1658 - acc: 0.6071 - val_loss: 1.0775 - val_acc: 0.6435\n",
      "Epoch 3/30\n",
      "235/235 [==============================] - ETA: 0s - loss: 1.0831 - acc: 0.6376\n",
      "Epoch 3: val_loss improved from 1.07753 to 0.99708, saving model to vgg_augmentation_basic.keras\n",
      "235/235 [==============================] - 111s 474ms/step - loss: 1.0831 - acc: 0.6376 - val_loss: 0.9971 - val_acc: 0.6710\n",
      "Epoch 4/30\n",
      "235/235 [==============================] - ETA: 0s - loss: 0.9947 - acc: 0.6677\n",
      "Epoch 4: val_loss improved from 0.99708 to 0.93794, saving model to vgg_augmentation_basic.keras\n",
      "235/235 [==============================] - 100s 425ms/step - loss: 0.9947 - acc: 0.6677 - val_loss: 0.9379 - val_acc: 0.6930\n",
      "Epoch 5/30\n",
      "235/235 [==============================] - ETA: 0s - loss: 0.9812 - acc: 0.6781\n",
      "Epoch 5: val_loss improved from 0.93794 to 0.91191, saving model to vgg_augmentation_basic.keras\n",
      "235/235 [==============================] - 111s 474ms/step - loss: 0.9812 - acc: 0.6781 - val_loss: 0.9119 - val_acc: 0.7085\n",
      "Epoch 6/30\n",
      "235/235 [==============================] - ETA: 0s - loss: 0.9219 - acc: 0.6901\n",
      "Epoch 6: val_loss improved from 0.91191 to 0.89835, saving model to vgg_augmentation_basic.keras\n",
      "235/235 [==============================] - 118s 501ms/step - loss: 0.9219 - acc: 0.6901 - val_loss: 0.8984 - val_acc: 0.7085\n",
      "Epoch 7/30\n",
      "235/235 [==============================] - ETA: 0s - loss: 0.8763 - acc: 0.7037\n",
      "Epoch 7: val_loss improved from 0.89835 to 0.89733, saving model to vgg_augmentation_basic.keras\n",
      "235/235 [==============================] - 111s 473ms/step - loss: 0.8763 - acc: 0.7037 - val_loss: 0.8973 - val_acc: 0.7115\n",
      "Epoch 8/30\n",
      "235/235 [==============================] - ETA: 0s - loss: 0.8866 - acc: 0.7053\n",
      "Epoch 8: val_loss improved from 0.89733 to 0.87359, saving model to vgg_augmentation_basic.keras\n",
      "235/235 [==============================] - 114s 485ms/step - loss: 0.8866 - acc: 0.7053 - val_loss: 0.8736 - val_acc: 0.7210\n",
      "Epoch 9/30\n",
      "235/235 [==============================] - ETA: 0s - loss: 0.8743 - acc: 0.7124\n",
      "Epoch 9: val_loss did not improve from 0.87359\n",
      "235/235 [==============================] - 118s 502ms/step - loss: 0.8743 - acc: 0.7124 - val_loss: 0.9178 - val_acc: 0.7180\n",
      "Epoch 10/30\n",
      "235/235 [==============================] - ETA: 0s - loss: 0.8387 - acc: 0.7192\n",
      "Epoch 10: val_loss improved from 0.87359 to 0.86537, saving model to vgg_augmentation_basic.keras\n",
      "235/235 [==============================] - 119s 506ms/step - loss: 0.8387 - acc: 0.7192 - val_loss: 0.8654 - val_acc: 0.7260\n",
      "Epoch 11/30\n",
      "235/235 [==============================] - ETA: 0s - loss: 0.8197 - acc: 0.7245\n",
      "Epoch 11: val_loss did not improve from 0.86537\n",
      "235/235 [==============================] - 102s 432ms/step - loss: 0.8197 - acc: 0.7245 - val_loss: 0.9288 - val_acc: 0.7065\n",
      "Epoch 12/30\n",
      "235/235 [==============================] - ETA: 0s - loss: 0.8225 - acc: 0.7251\n",
      "Epoch 12: val_loss did not improve from 0.86537\n",
      "235/235 [==============================] - 96s 410ms/step - loss: 0.8225 - acc: 0.7251 - val_loss: 0.9405 - val_acc: 0.7025\n",
      "Epoch 13/30\n",
      "235/235 [==============================] - ETA: 0s - loss: 0.7872 - acc: 0.7411\n",
      "Epoch 13: val_loss did not improve from 0.86537\n",
      "235/235 [==============================] - 86s 367ms/step - loss: 0.7872 - acc: 0.7411 - val_loss: 0.9001 - val_acc: 0.7230\n",
      "Epoch 14/30\n",
      "235/235 [==============================] - ETA: 0s - loss: 0.7994 - acc: 0.7337\n",
      "Epoch 14: val_loss did not improve from 0.86537\n",
      "235/235 [==============================] - 84s 358ms/step - loss: 0.7994 - acc: 0.7337 - val_loss: 0.9726 - val_acc: 0.7045\n",
      "Epoch 15/30\n",
      "235/235 [==============================] - ETA: 0s - loss: 0.7493 - acc: 0.7488\n",
      "Epoch 15: val_loss did not improve from 0.86537\n",
      "235/235 [==============================] - 85s 360ms/step - loss: 0.7493 - acc: 0.7488 - val_loss: 0.8981 - val_acc: 0.7235\n",
      "Epoch 16/30\n",
      "235/235 [==============================] - ETA: 0s - loss: 0.7708 - acc: 0.7444\n",
      "Epoch 16: val_loss did not improve from 0.86537\n",
      "235/235 [==============================] - 81s 344ms/step - loss: 0.7708 - acc: 0.7444 - val_loss: 0.8734 - val_acc: 0.7220\n",
      "Epoch 17/30\n",
      "235/235 [==============================] - ETA: 0s - loss: 0.7489 - acc: 0.7517\n",
      "Epoch 17: val_loss did not improve from 0.86537\n",
      "235/235 [==============================] - 84s 355ms/step - loss: 0.7489 - acc: 0.7517 - val_loss: 0.8838 - val_acc: 0.7275\n",
      "Epoch 18/30\n",
      "235/235 [==============================] - ETA: 0s - loss: 0.7548 - acc: 0.7504\n",
      "Epoch 18: val_loss did not improve from 0.86537\n",
      "235/235 [==============================] - 82s 351ms/step - loss: 0.7548 - acc: 0.7504 - val_loss: 0.9229 - val_acc: 0.7120\n",
      "Epoch 19/30\n",
      "235/235 [==============================] - ETA: 0s - loss: 0.7282 - acc: 0.7547\n",
      "Epoch 19: val_loss did not improve from 0.86537\n",
      "235/235 [==============================] - 83s 352ms/step - loss: 0.7282 - acc: 0.7547 - val_loss: 0.9279 - val_acc: 0.7215\n",
      "Epoch 20/30\n",
      "235/235 [==============================] - ETA: 0s - loss: 0.7253 - acc: 0.7605\n",
      "Epoch 20: val_loss did not improve from 0.86537\n",
      "235/235 [==============================] - 84s 357ms/step - loss: 0.7253 - acc: 0.7605 - val_loss: 0.9099 - val_acc: 0.7215\n",
      "Epoch 21/30\n",
      "235/235 [==============================] - ETA: 0s - loss: 0.7517 - acc: 0.7456\n",
      "Epoch 21: val_loss did not improve from 0.86537\n",
      "235/235 [==============================] - 87s 368ms/step - loss: 0.7517 - acc: 0.7456 - val_loss: 0.9512 - val_acc: 0.7085\n",
      "Epoch 22/30\n",
      "235/235 [==============================] - ETA: 0s - loss: 0.6991 - acc: 0.7703\n",
      "Epoch 22: val_loss improved from 0.86537 to 0.84834, saving model to vgg_augmentation_basic.keras\n",
      "235/235 [==============================] - 85s 361ms/step - loss: 0.6991 - acc: 0.7703 - val_loss: 0.8483 - val_acc: 0.7325\n",
      "Epoch 23/30\n",
      "235/235 [==============================] - ETA: 0s - loss: 0.7062 - acc: 0.7624\n",
      "Epoch 23: val_loss did not improve from 0.84834\n",
      "235/235 [==============================] - 85s 360ms/step - loss: 0.7062 - acc: 0.7624 - val_loss: 0.9014 - val_acc: 0.7135\n",
      "Epoch 24/30\n",
      "235/235 [==============================] - ETA: 0s - loss: 0.6968 - acc: 0.7663\n",
      "Epoch 24: val_loss did not improve from 0.84834\n",
      "235/235 [==============================] - 80s 342ms/step - loss: 0.6968 - acc: 0.7663 - val_loss: 0.9313 - val_acc: 0.7145\n",
      "Epoch 25/30\n",
      "235/235 [==============================] - ETA: 0s - loss: 0.7375 - acc: 0.7563\n",
      "Epoch 25: val_loss did not improve from 0.84834\n",
      "235/235 [==============================] - 82s 350ms/step - loss: 0.7375 - acc: 0.7563 - val_loss: 0.9265 - val_acc: 0.7230\n",
      "Epoch 26/30\n",
      "235/235 [==============================] - ETA: 0s - loss: 0.6914 - acc: 0.7700\n",
      "Epoch 26: val_loss did not improve from 0.84834\n",
      "235/235 [==============================] - 81s 343ms/step - loss: 0.6914 - acc: 0.7700 - val_loss: 0.8887 - val_acc: 0.7255\n",
      "Epoch 27/30\n",
      "235/235 [==============================] - ETA: 0s - loss: 0.6921 - acc: 0.7699\n",
      "Epoch 27: val_loss did not improve from 0.84834\n",
      "235/235 [==============================] - 79s 338ms/step - loss: 0.6921 - acc: 0.7699 - val_loss: 0.8712 - val_acc: 0.7350\n",
      "Epoch 28/30\n",
      "235/235 [==============================] - ETA: 0s - loss: 0.6897 - acc: 0.7701\n",
      "Epoch 28: val_loss did not improve from 0.84834\n",
      "235/235 [==============================] - 80s 342ms/step - loss: 0.6897 - acc: 0.7701 - val_loss: 0.9521 - val_acc: 0.7125\n",
      "Epoch 29/30\n",
      "235/235 [==============================] - ETA: 0s - loss: 0.6557 - acc: 0.7751\n",
      "Epoch 29: val_loss did not improve from 0.84834\n",
      "235/235 [==============================] - 81s 343ms/step - loss: 0.6557 - acc: 0.7751 - val_loss: 0.8631 - val_acc: 0.7350\n",
      "Epoch 30/30\n",
      "235/235 [==============================] - ETA: 0s - loss: 0.6501 - acc: 0.7823\n",
      "Epoch 30: val_loss did not improve from 0.84834\n",
      "235/235 [==============================] - 83s 353ms/step - loss: 0.6501 - acc: 0.7823 - val_loss: 0.9619 - val_acc: 0.7100\n"
     ]
    }
   ],
   "source": [
    "# Train the Model\n",
    "from keras.callbacks import ModelCheckpoint\n",
    "\n",
    "# Checkpoint\n",
    "mc = ModelCheckpoint(\n",
    "    'vgg_augmentation_basic.keras',\n",
    "    monitor='val_loss',\n",
    "    mode='min',\n",
    "    verbose=1,\n",
    "    save_best_only=True\n",
    ")\n",
    "\n",
    "history = vgg_2.fit(\n",
    "    train_generator,\n",
    "    epochs=30,\n",
    "    validation_data=validation_generator,\n",
    "    callbacks=[mc]\n",
    ")"
   ]
  },
  {
   "cell_type": "code",
   "execution_count": 10,
   "id": "49a6b2e0",
   "metadata": {},
   "outputs": [
    {
     "data": {
      "image/png": "[encoded data removed]",
      "text/plain": [
       "<Figure size 640x480 with 1 Axes>"
      ]
     },
     "metadata": {},
     "output_type": "display_data"
    },
    {
     "data": {
      "image/png": "[encoded data removed]",
      "text/plain": [
       "<Figure size 640x480 with 1 Axes>"
      ]
     },
     "metadata": {},
     "output_type": "display_data"
    }
   ],
   "source": [
    "acc = history.history['acc']\n",
    "val_acc = history.history['val_acc']\n",
    "loss = history.history['loss']\n",
    "val_loss = history.history['val_loss']\n",
    "\n",
    "epochs = range(len(acc))\n",
    "\n",
    "plt.plot(epochs, acc, 'bo', label='Training acc')\n",
    "plt.plot(epochs, val_acc, 'b', label='Validation acc')\n",
    "plt.title('Training and validation accuracy')\n",
    "plt.legend()\n",
    "\n",
    "plt.figure()\n",
    "\n",
    "plt.plot(epochs, loss, 'bo', label='Training loss')\n",
    "plt.plot(epochs, val_loss, 'b', label='Validation loss')\n",
    "plt.title('Training and validation loss')\n",
    "plt.legend()\n",
    "\n",
    "plt.show()"
   ]
  },
  {
   "cell_type": "markdown",
   "metadata": {},
   "source": [
    "### Feature Extraction with More data augmentations by including colour and lighting"
   ]
  },
  {
   "cell_type": "code",
   "execution_count": 11,
   "metadata": {},
   "outputs": [],
   "source": [
    "from tensorflow.keras import models\n",
    "from tensorflow.keras import layers\n",
    "\n",
    "vgg_base.trainable = False\n",
    "\n",
    "vgg_3 = models.Sequential()\n",
    "vgg_3.add(vgg_base)\n",
    "vgg_3.add(layers.Flatten())\n",
    "vgg_3.add(layers.Dense(256, activation='relu'))\n",
    "vgg_3.add(layers.Dense(10, activation='softmax'))"
   ]
  },
  {
   "cell_type": "code",
   "execution_count": 12,
   "metadata": {},
   "outputs": [
    {
     "name": "stdout",
     "output_type": "stream",
     "text": [
      "Model: \"sequential_1\"\n",
      "_________________________________________________________________\n",
      " Layer (type)                Output Shape              Param #   \n",
      "=================================================================\n",
      " vgg16 (Functional)          (None, 7, 7, 512)         14714688  \n",
      "                                                                 \n",
      " flatten_1 (Flatten)         (None, 25088)             0         \n",
      "                                                                 \n",
      " dense_2 (Dense)             (None, 256)               6422784   \n",
      "                                                                 \n",
      " dense_3 (Dense)             (None, 10)                2570      \n",
      "                                                                 \n",
      "=================================================================\n",
      "Total params: 21,140,042\n",
      "Trainable params: 6,425,354\n",
      "Non-trainable params: 14,714,688\n",
      "_________________________________________________________________\n"
     ]
    }
   ],
   "source": [
    "vgg_3.summary()"
   ]
  },
  {
   "cell_type": "code",
   "execution_count": 13,
   "metadata": {},
   "outputs": [],
   "source": [
    "vgg_3.compile(loss='categorical_crossentropy',\n",
    "              optimizer=optimizers.Adam(learning_rate=0.001), # set learning rate to adam & lr of 0.001\n",
    "              metrics=['acc'])"
   ]
  },
  {
   "cell_type": "code",
   "execution_count": 14,
   "metadata": {},
   "outputs": [
    {
     "name": "stdout",
     "output_type": "stream",
     "text": [
      "Found 7500 images belonging to 10 classes.\n",
      "Found 2000 images belonging to 10 classes.\n",
      "Found 500 images belonging to 10 classes.\n"
     ]
    }
   ],
   "source": [
    "from tensorflow.keras.preprocessing.image import ImageDataGenerator\n",
    "\n",
    "# All images will be rescaled by 1./255\n",
    "train_datagen = ImageDataGenerator(\n",
    "    rescale=1./255,\n",
    "    rotation_range=20,\n",
    "    width_shift_range=0.2,\n",
    "    height_shift_range=0.2,\n",
    "    shear_range=0.2,\n",
    "    zoom_range=0.2,\n",
    "    horizontal_flip=True,\n",
    "    vertical_flip=False,\n",
    "    brightness_range=[0.8, 1.2],\n",
    "    channel_shift_range=20,\n",
    "    featurewise_center=False,\n",
    "    featurewise_std_normalization=False, \n",
    "    preprocessing_function=None\n",
    ")\n",
    "\n",
    "validation_datagen = ImageDataGenerator(rescale=1./255)\n",
    "test_datagen = ImageDataGenerator(rescale=1./255)\n",
    "\n",
    "train_generator = train_datagen.flow_from_directory(\n",
    "        # This is the target directory\n",
    "        train_dir,\n",
    "        target_size=(img_size, img_size),\n",
    "        batch_size=32,\n",
    "        class_mode='categorical')\n",
    "\n",
    "\n",
    "validation_generator = validation_datagen.flow_from_directory(\n",
    "        validation_dir,\n",
    "        target_size=(img_size, img_size),\n",
    "        batch_size=32,\n",
    "        class_mode='categorical')\n",
    "\n",
    "test_generator = test_datagen.flow_from_directory(\n",
    "    test_dir,\n",
    "    target_size=(img_size, img_size),\n",
    "    batch_size=32,\n",
    "    class_mode='categorical')"
   ]
  },
  {
   "cell_type": "code",
   "execution_count": 15,
   "metadata": {},
   "outputs": [
    {
     "name": "stdout",
     "output_type": "stream",
     "text": [
      "Epoch 1/30\n",
      "235/235 [==============================] - ETA: 0s - loss: 1.8369 - acc: 0.4481\n",
      "Epoch 1: val_loss improved from inf to 1.16407, saving model to vgg_augmentation_advanced.keras\n",
      "235/235 [==============================] - 95s 401ms/step - loss: 1.8369 - acc: 0.4481 - val_loss: 1.1641 - val_acc: 0.6095\n",
      "Epoch 2/30\n",
      "235/235 [==============================] - ETA: 0s - loss: 1.1933 - acc: 0.5971\n",
      "Epoch 2: val_loss improved from 1.16407 to 1.00388, saving model to vgg_augmentation_advanced.keras\n",
      "235/235 [==============================] - 98s 417ms/step - loss: 1.1933 - acc: 0.5971 - val_loss: 1.0039 - val_acc: 0.6620\n",
      "Epoch 3/30\n",
      "235/235 [==============================] - ETA: 0s - loss: 1.1036 - acc: 0.6359\n",
      "Epoch 3: val_loss improved from 1.00388 to 0.95157, saving model to vgg_augmentation_advanced.keras\n",
      "235/235 [==============================] - 97s 410ms/step - loss: 1.1036 - acc: 0.6359 - val_loss: 0.9516 - val_acc: 0.6905\n",
      "Epoch 4/30\n",
      "235/235 [==============================] - ETA: 0s - loss: 1.0447 - acc: 0.6512\n",
      "Epoch 4: val_loss improved from 0.95157 to 0.94710, saving model to vgg_augmentation_advanced.keras\n",
      "235/235 [==============================] - 94s 398ms/step - loss: 1.0447 - acc: 0.6512 - val_loss: 0.9471 - val_acc: 0.6875\n",
      "Epoch 5/30\n",
      "235/235 [==============================] - ETA: 0s - loss: 0.9933 - acc: 0.6731\n",
      "Epoch 5: val_loss did not improve from 0.94710\n",
      "235/235 [==============================] - 96s 410ms/step - loss: 0.9933 - acc: 0.6731 - val_loss: 0.9821 - val_acc: 0.6725\n",
      "Epoch 6/30\n",
      "235/235 [==============================] - ETA: 0s - loss: 0.9520 - acc: 0.6876\n",
      "Epoch 6: val_loss improved from 0.94710 to 0.92795, saving model to vgg_augmentation_advanced.keras\n",
      "235/235 [==============================] - 95s 404ms/step - loss: 0.9520 - acc: 0.6876 - val_loss: 0.9280 - val_acc: 0.7010\n",
      "Epoch 7/30\n",
      "235/235 [==============================] - ETA: 0s - loss: 0.9287 - acc: 0.6895\n",
      "Epoch 7: val_loss improved from 0.92795 to 0.88033, saving model to vgg_augmentation_advanced.keras\n",
      "235/235 [==============================] - 97s 412ms/step - loss: 0.9287 - acc: 0.6895 - val_loss: 0.8803 - val_acc: 0.7125\n",
      "Epoch 8/30\n",
      "235/235 [==============================] - ETA: 0s - loss: 0.9058 - acc: 0.6971\n",
      "Epoch 8: val_loss improved from 0.88033 to 0.86928, saving model to vgg_augmentation_advanced.keras\n",
      "235/235 [==============================] - 101s 428ms/step - loss: 0.9058 - acc: 0.6971 - val_loss: 0.8693 - val_acc: 0.7140\n",
      "Epoch 9/30\n",
      "235/235 [==============================] - ETA: 0s - loss: 0.8846 - acc: 0.7084\n",
      "Epoch 9: val_loss did not improve from 0.86928\n",
      "235/235 [==============================] - 97s 411ms/step - loss: 0.8846 - acc: 0.7084 - val_loss: 0.9193 - val_acc: 0.7050\n",
      "Epoch 10/30\n",
      "235/235 [==============================] - ETA: 0s - loss: 0.8621 - acc: 0.7140\n",
      "Epoch 10: val_loss did not improve from 0.86928\n",
      "235/235 [==============================] - 97s 412ms/step - loss: 0.8621 - acc: 0.7140 - val_loss: 0.8989 - val_acc: 0.7100\n",
      "Epoch 11/30\n",
      "235/235 [==============================] - ETA: 0s - loss: 0.8582 - acc: 0.7091\n",
      "Epoch 11: val_loss did not improve from 0.86928\n",
      "235/235 [==============================] - 95s 403ms/step - loss: 0.8582 - acc: 0.7091 - val_loss: 0.9238 - val_acc: 0.7050\n",
      "Epoch 12/30\n",
      "235/235 [==============================] - ETA: 0s - loss: 0.8410 - acc: 0.7209\n",
      "Epoch 12: val_loss did not improve from 0.86928\n",
      "235/235 [==============================] - 90s 383ms/step - loss: 0.8410 - acc: 0.7209 - val_loss: 0.9162 - val_acc: 0.7000\n",
      "Epoch 13/30\n",
      "235/235 [==============================] - ETA: 0s - loss: 0.8210 - acc: 0.7231\n",
      "Epoch 13: val_loss improved from 0.86928 to 0.86225, saving model to vgg_augmentation_advanced.keras\n",
      "235/235 [==============================] - 98s 415ms/step - loss: 0.8210 - acc: 0.7231 - val_loss: 0.8623 - val_acc: 0.7200\n",
      "Epoch 14/30\n",
      "235/235 [==============================] - ETA: 0s - loss: 0.8192 - acc: 0.7277\n",
      "Epoch 14: val_loss did not improve from 0.86225\n",
      "235/235 [==============================] - 99s 421ms/step - loss: 0.8192 - acc: 0.7277 - val_loss: 0.8828 - val_acc: 0.7280\n",
      "Epoch 15/30\n",
      "235/235 [==============================] - ETA: 0s - loss: 0.8072 - acc: 0.7305\n",
      "Epoch 15: val_loss improved from 0.86225 to 0.85942, saving model to vgg_augmentation_advanced.keras\n",
      "235/235 [==============================] - 111s 473ms/step - loss: 0.8072 - acc: 0.7305 - val_loss: 0.8594 - val_acc: 0.7250\n",
      "Epoch 16/30\n",
      "235/235 [==============================] - ETA: 0s - loss: 0.7929 - acc: 0.7368\n",
      "Epoch 16: val_loss did not improve from 0.85942\n",
      "235/235 [==============================] - 115s 487ms/step - loss: 0.7929 - acc: 0.7368 - val_loss: 0.9016 - val_acc: 0.7075\n",
      "Epoch 17/30\n",
      "235/235 [==============================] - ETA: 0s - loss: 0.7939 - acc: 0.7285\n",
      "Epoch 17: val_loss did not improve from 0.85942\n",
      "235/235 [==============================] - 113s 479ms/step - loss: 0.7939 - acc: 0.7285 - val_loss: 0.8707 - val_acc: 0.7105\n",
      "Epoch 18/30\n",
      "235/235 [==============================] - ETA: 0s - loss: 0.7764 - acc: 0.7405\n",
      "Epoch 18: val_loss did not improve from 0.85942\n",
      "235/235 [==============================] - 114s 485ms/step - loss: 0.7764 - acc: 0.7405 - val_loss: 0.9050 - val_acc: 0.7200\n",
      "Epoch 19/30\n",
      "235/235 [==============================] - ETA: 0s - loss: 0.7684 - acc: 0.7492\n",
      "Epoch 19: val_loss did not improve from 0.85942\n",
      "235/235 [==============================] - 132s 560ms/step - loss: 0.7684 - acc: 0.7492 - val_loss: 0.8944 - val_acc: 0.7135\n",
      "Epoch 20/30\n",
      "235/235 [==============================] - ETA: 0s - loss: 0.7667 - acc: 0.7463\n",
      "Epoch 20: val_loss did not improve from 0.85942\n",
      "235/235 [==============================] - 135s 573ms/step - loss: 0.7667 - acc: 0.7463 - val_loss: 0.8879 - val_acc: 0.7285\n",
      "Epoch 21/30\n",
      "235/235 [==============================] - ETA: 0s - loss: 0.7575 - acc: 0.7471\n",
      "Epoch 21: val_loss did not improve from 0.85942\n",
      "235/235 [==============================] - 107s 457ms/step - loss: 0.7575 - acc: 0.7471 - val_loss: 0.9133 - val_acc: 0.7200\n",
      "Epoch 22/30\n",
      "235/235 [==============================] - ETA: 0s - loss: 0.7575 - acc: 0.7475\n",
      "Epoch 22: val_loss did not improve from 0.85942\n",
      "235/235 [==============================] - 96s 407ms/step - loss: 0.7575 - acc: 0.7475 - val_loss: 0.9225 - val_acc: 0.7185\n",
      "Epoch 23/30\n",
      "235/235 [==============================] - ETA: 0s - loss: 0.7366 - acc: 0.7508\n",
      "Epoch 23: val_loss improved from 0.85942 to 0.83955, saving model to vgg_augmentation_advanced.keras\n",
      "235/235 [==============================] - 89s 380ms/step - loss: 0.7366 - acc: 0.7508 - val_loss: 0.8396 - val_acc: 0.7435\n",
      "Epoch 24/30\n",
      "235/235 [==============================] - ETA: 0s - loss: 0.7205 - acc: 0.7583\n",
      "Epoch 24: val_loss did not improve from 0.83955\n",
      "235/235 [==============================] - 92s 391ms/step - loss: 0.7205 - acc: 0.7583 - val_loss: 0.8611 - val_acc: 0.7275\n",
      "Epoch 25/30\n",
      "235/235 [==============================] - ETA: 0s - loss: 0.7420 - acc: 0.7495\n",
      "Epoch 25: val_loss did not improve from 0.83955\n",
      "235/235 [==============================] - 95s 404ms/step - loss: 0.7420 - acc: 0.7495 - val_loss: 0.9076 - val_acc: 0.7125\n",
      "Epoch 26/30\n",
      "235/235 [==============================] - ETA: 0s - loss: 0.7159 - acc: 0.7624\n",
      "Epoch 26: val_loss did not improve from 0.83955\n",
      "235/235 [==============================] - 92s 390ms/step - loss: 0.7159 - acc: 0.7624 - val_loss: 0.9453 - val_acc: 0.7090\n",
      "Epoch 27/30\n",
      "235/235 [==============================] - ETA: 0s - loss: 0.7170 - acc: 0.7532\n",
      "Epoch 27: val_loss did not improve from 0.83955\n",
      "235/235 [==============================] - 94s 400ms/step - loss: 0.7170 - acc: 0.7532 - val_loss: 0.8774 - val_acc: 0.7235\n",
      "Epoch 28/30\n",
      "235/235 [==============================] - ETA: 0s - loss: 0.7131 - acc: 0.7555\n",
      "Epoch 28: val_loss did not improve from 0.83955\n",
      "235/235 [==============================] - 95s 402ms/step - loss: 0.7131 - acc: 0.7555 - val_loss: 0.8866 - val_acc: 0.7315\n",
      "Epoch 29/30\n",
      "235/235 [==============================] - ETA: 0s - loss: 0.6993 - acc: 0.7644\n",
      "Epoch 29: val_loss did not improve from 0.83955\n",
      "235/235 [==============================] - 95s 406ms/step - loss: 0.6993 - acc: 0.7644 - val_loss: 0.9212 - val_acc: 0.7180\n",
      "Epoch 30/30\n",
      "235/235 [==============================] - ETA: 0s - loss: 0.7016 - acc: 0.7603\n",
      "Epoch 30: val_loss did not improve from 0.83955\n",
      "235/235 [==============================] - 92s 392ms/step - loss: 0.7016 - acc: 0.7603 - val_loss: 0.8964 - val_acc: 0.7230\n"
     ]
    }
   ],
   "source": [
    "# Train the Model\n",
    "from keras.callbacks import ModelCheckpoint\n",
    "\n",
    "# Checkpoint\n",
    "mc = ModelCheckpoint(\n",
    "    'vgg_augmentation_advanced.keras',\n",
    "    monitor='val_loss',\n",
    "    mode='min',\n",
    "    verbose=1,\n",
    "    save_best_only=True\n",
    ")\n",
    "\n",
    "history = vgg_3.fit(\n",
    "    train_generator,\n",
    "    epochs=30,\n",
    "    validation_data=validation_generator,\n",
    "    callbacks=[mc]\n",
    ")"
   ]
  },
  {
   "cell_type": "code",
   "execution_count": 16,
   "metadata": {},
   "outputs": [
    {
     "data": {
      "image/png": "[encoded data removed]",
      "text/plain": [
       "<Figure size 640x480 with 1 Axes>"
      ]
     },
     "metadata": {},
     "output_type": "display_data"
    },
    {
     "data": {
      "image/png": "[encoded data removed]",
      "text/plain": [
       "<Figure size 640x480 with 1 Axes>"
      ]
     },
     "metadata": {},
     "output_type": "display_data"
    }
   ],
   "source": [
    "acc = history.history['acc']\n",
    "val_acc = history.history['val_acc']\n",
    "loss = history.history['loss']\n",
    "val_loss = history.history['val_loss']\n",
    "\n",
    "epochs = range(len(acc))\n",
    "\n",
    "plt.plot(epochs, acc, 'bo', label='Training acc')\n",
    "plt.plot(epochs, val_acc, 'b', label='Validation acc')\n",
    "plt.title('Training and validation accuracy')\n",
    "plt.legend()\n",
    "\n",
    "plt.figure()\n",
    "\n",
    "plt.plot(epochs, loss, 'bo', label='Training loss')\n",
    "plt.plot(epochs, val_loss, 'b', label='Validation loss')\n",
    "plt.title('Training and validation loss')\n",
    "plt.legend()\n",
    "\n",
    "plt.show()"
   ]
  },
  {
   "cell_type": "code",
   "execution_count": null,
   "metadata": {},
   "outputs": [],
   "source": []
  },
  {
   "cell_type": "code",
   "execution_count": null,
   "metadata": {},
   "outputs": [],
   "source": []
  },
  {
   "cell_type": "code",
   "execution_count": null,
   "metadata": {},
   "outputs": [],
   "source": []
  },
  {
   "cell_type": "code",
   "execution_count": null,
   "id": "cb9e465d",
   "metadata": {},
   "outputs": [],
   "source": []
  }
 ],
 "metadata": {
  "kernelspec": {
   "display_name": "Python 3 (ipykernel)",
   "language": "python",
   "name": "python3"
  },
  "language_info": {
   "codemirror_mode": {
    "name": "ipython",
    "version": 3
   },
   "file_extension": ".py",
   "mimetype": "text/x-python",
   "name": "python",
   "nbconvert_exporter": "python",
   "pygments_lexer": "ipython3",
   "version": "3.9.18"
  }
 },
 "nbformat": 4,
 "nbformat_minor": 5
}
