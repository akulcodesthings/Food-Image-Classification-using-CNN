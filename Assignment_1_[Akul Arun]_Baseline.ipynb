{
 "cells": [
  {
   "cell_type": "markdown",
   "metadata": {},
   "source": [
    "<table class=\"table table-bordered\">\n",
    "    <tr>\n",
    "        <th style=\"text-align:center; vertical-align: middle; width:50%\"><img src='https://www.np.edu.sg/images/default-source/default-album/img-logo.png'\"></th>\n",
    "        <th style=\"text-align:center;\"><h1>Deep Learning</h1><h2>Assignment 1 - Food Classification Model (Individual)</h2><h3>AY2023/24 Semester</h3></th>\n",
    "    </tr>\n",
    "</table>"
   ]
  },
  {
   "cell_type": "markdown",
   "metadata": {},
   "source": [
    "#### Name: Akul Arun\n",
    "#### Student ID: S10243523"
   ]
  },
  {
   "cell_type": "code",
   "execution_count": 1,
   "metadata": {},
   "outputs": [],
   "source": [
    "# Import the Required Packages\n",
    "from tensorflow import keras\n",
    "import os\n",
    "import matplotlib.pyplot as plt\n",
    "%matplotlib inline"
   ]
  },
  {
   "cell_type": "markdown",
   "metadata": {},
   "source": [
    "*Note: More Packages will be imported along the way"
   ]
  },
  {
   "cell_type": "markdown",
   "metadata": {},
   "source": [
    "## Step 1: Data Loading"
   ]
  },
  {
   "cell_type": "code",
   "execution_count": 2,
   "metadata": {},
   "outputs": [],
   "source": [
    "train_dir = os.path.join(os.getcwd(), 'train')\n",
    "test_dir = os.path.join(os.getcwd(), 'test')\n",
    "validation_dir = os.path.join(os.getcwd(), 'validation')"
   ]
  },
  {
   "cell_type": "markdown",
   "metadata": {},
   "source": [
    "## Step 2:  Develop the Image Classification Baseline Model"
   ]
  },
  {
   "cell_type": "code",
   "execution_count": 3,
   "metadata": {},
   "outputs": [],
   "source": [
    "# Build the Model\n",
    "from tensorflow.keras import layers\n",
    "from tensorflow.keras import models\n",
    "\n",
    "img_size = 150\n",
    "\n",
    "base_model = models.Sequential()\n",
    "base_model.add(layers.Conv2D(32, (3, 3), activation='relu',\n",
    "                        input_shape=(img_size, img_size, 3)))\n",
    "base_model.add(layers.MaxPooling2D((2, 2)))\n",
    "base_model.add(layers.Conv2D(64, (3, 3), activation='relu'))\n",
    "base_model.add(layers.MaxPooling2D((2, 2)))\n",
    "base_model.add(layers.Conv2D(128, (3, 3), activation='relu'))\n",
    "base_model.add(layers.MaxPooling2D((2, 2)))\n",
    "base_model.add(layers.Conv2D(128, (3, 3), activation='relu'))\n",
    "base_model.add(layers.MaxPooling2D((2, 2)))\n",
    "base_model.add(layers.Flatten())\n",
    "base_model.add(layers.Dense(512, activation='relu'))\n",
    "base_model.add(layers.Dense(10, activation='softmax'))\n"
   ]
  },
  {
   "cell_type": "code",
   "execution_count": 4,
   "metadata": {},
   "outputs": [
    {
     "name": "stdout",
     "output_type": "stream",
     "text": [
      "Model: \"sequential\"\n",
      "_________________________________________________________________\n",
      " Layer (type)                Output Shape              Param #   \n",
      "=================================================================\n",
      " conv2d (Conv2D)             (None, 148, 148, 32)      896       \n",
      "                                                                 \n",
      " max_pooling2d (MaxPooling2D  (None, 74, 74, 32)       0         \n",
      " )                                                               \n",
      "                                                                 \n",
      " conv2d_1 (Conv2D)           (None, 72, 72, 64)        18496     \n",
      "                                                                 \n",
      " max_pooling2d_1 (MaxPooling  (None, 36, 36, 64)       0         \n",
      " 2D)                                                             \n",
      "                                                                 \n",
      " conv2d_2 (Conv2D)           (None, 34, 34, 128)       73856     \n",
      "                                                                 \n",
      " max_pooling2d_2 (MaxPooling  (None, 17, 17, 128)      0         \n",
      " 2D)                                                             \n",
      "                                                                 \n",
      " conv2d_3 (Conv2D)           (None, 15, 15, 128)       147584    \n",
      "                                                                 \n",
      " max_pooling2d_3 (MaxPooling  (None, 7, 7, 128)        0         \n",
      " 2D)                                                             \n",
      "                                                                 \n",
      " flatten (Flatten)           (None, 6272)              0         \n",
      "                                                                 \n",
      " dense (Dense)               (None, 512)               3211776   \n",
      "                                                                 \n",
      " dense_1 (Dense)             (None, 10)                5130      \n",
      "                                                                 \n",
      "=================================================================\n",
      "Total params: 3,457,738\n",
      "Trainable params: 3,457,738\n",
      "Non-trainable params: 0\n",
      "_________________________________________________________________\n"
     ]
    }
   ],
   "source": [
    "base_model.summary()"
   ]
  },
  {
   "cell_type": "code",
   "execution_count": 5,
   "metadata": {},
   "outputs": [],
   "source": [
    "from tensorflow.keras import optimizers\n",
    "\n",
    "base_model.compile(loss='categorical_crossentropy',\n",
    "              optimizer=optimizers.RMSprop(learning_rate=1e-4),\n",
    "              metrics=['acc'])"
   ]
  },
  {
   "cell_type": "code",
   "execution_count": 6,
   "metadata": {},
   "outputs": [
    {
     "name": "stdout",
     "output_type": "stream",
     "text": [
      "Found 7500 images belonging to 10 classes.\n",
      "Found 2000 images belonging to 10 classes.\n",
      "Found 500 images belonging to 10 classes.\n"
     ]
    }
   ],
   "source": [
    "from tensorflow.keras.preprocessing.image import ImageDataGenerator\n",
    "\n",
    "# All images will be rescaled by 1./255\n",
    "train_datagen = ImageDataGenerator(rescale=1./255)\n",
    "validation_datagen = ImageDataGenerator(rescale=1./255)\n",
    "test_datagen = ImageDataGenerator(rescale=1./255)\n",
    "\n",
    "train_generator = train_datagen.flow_from_directory(\n",
    "    train_dir,\n",
    "    target_size=(img_size, img_size),\n",
    "    batch_size=20,\n",
    "    class_mode='categorical')\n",
    "            \n",
    "validation_generator = validation_datagen.flow_from_directory(\n",
    "     validation_dir,\n",
    "     target_size=(img_size, img_size),\n",
    "     batch_size=20,\n",
    "     class_mode='categorical')\n",
    "\n",
    "test_generator = test_datagen.flow_from_directory(\n",
    "    test_dir,\n",
    "    target_size=(img_size, img_size),\n",
    "    batch_size=20,\n",
    "    class_mode='categorical')\n"
   ]
  },
  {
   "cell_type": "code",
   "execution_count": 7,
   "metadata": {},
   "outputs": [
    {
     "name": "stdout",
     "output_type": "stream",
     "text": [
      "data batch shape: (20, 150, 150, 3)\n",
      "labels batch shape: (20, 10)\n"
     ]
    }
   ],
   "source": [
    "for data_batch, labels_batch in train_generator:\n",
    "    print('data batch shape:', data_batch.shape)\n",
    "    tmp_plot=data_batch[0]\n",
    "    print('labels batch shape:', labels_batch.shape)\n",
    "    break"
   ]
  },
  {
   "cell_type": "code",
   "execution_count": 8,
   "metadata": {},
   "outputs": [
    {
     "name": "stdout",
     "output_type": "stream",
     "text": [
      "Epoch 1/30\n",
      "375/375 [==============================] - ETA: 0s - loss: 2.1206 - acc: 0.2301\n",
      "Epoch 1: val_loss improved from inf to 2.00199, saving model to Baseline.keras\n",
      "375/375 [==============================] - 37s 85ms/step - loss: 2.1206 - acc: 0.2301 - val_loss: 2.0020 - val_acc: 0.2840\n",
      "Epoch 2/30\n",
      "375/375 [==============================] - ETA: 0s - loss: 1.9091 - acc: 0.3327\n",
      "Epoch 2: val_loss improved from 2.00199 to 1.91263, saving model to Baseline.keras\n",
      "375/375 [==============================] - 28s 74ms/step - loss: 1.9091 - acc: 0.3327 - val_loss: 1.9126 - val_acc: 0.3335\n",
      "Epoch 3/30\n",
      "375/375 [==============================] - ETA: 0s - loss: 1.7782 - acc: 0.3833\n",
      "Epoch 3: val_loss improved from 1.91263 to 1.81523, saving model to Baseline.keras\n",
      "375/375 [==============================] - 28s 76ms/step - loss: 1.7782 - acc: 0.3833 - val_loss: 1.8152 - val_acc: 0.3680\n",
      "Epoch 4/30\n",
      "375/375 [==============================] - ETA: 0s - loss: 1.6690 - acc: 0.4253\n",
      "Epoch 4: val_loss improved from 1.81523 to 1.73962, saving model to Baseline.keras\n",
      "375/375 [==============================] - 28s 75ms/step - loss: 1.6690 - acc: 0.4253 - val_loss: 1.7396 - val_acc: 0.4005\n",
      "Epoch 5/30\n",
      "375/375 [==============================] - ETA: 0s - loss: 1.5781 - acc: 0.4601\n",
      "Epoch 5: val_loss improved from 1.73962 to 1.68938, saving model to Baseline.keras\n",
      "375/375 [==============================] - 27s 73ms/step - loss: 1.5781 - acc: 0.4601 - val_loss: 1.6894 - val_acc: 0.4130\n",
      "Epoch 6/30\n",
      "375/375 [==============================] - ETA: 0s - loss: 1.4800 - acc: 0.4975\n",
      "Epoch 6: val_loss did not improve from 1.68938\n",
      "375/375 [==============================] - 25s 67ms/step - loss: 1.4800 - acc: 0.4975 - val_loss: 1.6932 - val_acc: 0.4235\n",
      "Epoch 7/30\n",
      "375/375 [==============================] - ETA: 0s - loss: 1.3986 - acc: 0.5348\n",
      "Epoch 7: val_loss improved from 1.68938 to 1.58773, saving model to Baseline.keras\n",
      "375/375 [==============================] - 26s 69ms/step - loss: 1.3986 - acc: 0.5348 - val_loss: 1.5877 - val_acc: 0.4510\n",
      "Epoch 8/30\n",
      "375/375 [==============================] - ETA: 0s - loss: 1.3031 - acc: 0.5636\n",
      "Epoch 8: val_loss did not improve from 1.58773\n",
      "375/375 [==============================] - 26s 68ms/step - loss: 1.3031 - acc: 0.5636 - val_loss: 1.7324 - val_acc: 0.4250\n",
      "Epoch 9/30\n",
      "375/375 [==============================] - ETA: 0s - loss: 1.2005 - acc: 0.5956\n",
      "Epoch 9: val_loss improved from 1.58773 to 1.54703, saving model to Baseline.keras\n",
      "375/375 [==============================] - 27s 71ms/step - loss: 1.2005 - acc: 0.5956 - val_loss: 1.5470 - val_acc: 0.4700\n",
      "Epoch 10/30\n",
      "375/375 [==============================] - ETA: 0s - loss: 1.1065 - acc: 0.6333\n",
      "Epoch 10: val_loss did not improve from 1.54703\n",
      "375/375 [==============================] - 26s 70ms/step - loss: 1.1065 - acc: 0.6333 - val_loss: 1.6289 - val_acc: 0.4640\n",
      "Epoch 11/30\n",
      "375/375 [==============================] - ETA: 0s - loss: 0.9976 - acc: 0.6672\n",
      "Epoch 11: val_loss did not improve from 1.54703\n",
      "375/375 [==============================] - 25s 65ms/step - loss: 0.9976 - acc: 0.6672 - val_loss: 1.5565 - val_acc: 0.4950\n",
      "Epoch 12/30\n",
      "375/375 [==============================] - ETA: 0s - loss: 0.8876 - acc: 0.7005\n",
      "Epoch 12: val_loss did not improve from 1.54703\n",
      "375/375 [==============================] - 24s 64ms/step - loss: 0.8876 - acc: 0.7005 - val_loss: 1.6188 - val_acc: 0.4850\n",
      "Epoch 13/30\n",
      "375/375 [==============================] - ETA: 0s - loss: 0.7781 - acc: 0.7492\n",
      "Epoch 13: val_loss did not improve from 1.54703\n",
      "375/375 [==============================] - 26s 69ms/step - loss: 0.7781 - acc: 0.7492 - val_loss: 1.7292 - val_acc: 0.4775\n",
      "Epoch 14/30\n",
      "375/375 [==============================] - ETA: 0s - loss: 0.6575 - acc: 0.7888\n",
      "Epoch 14: val_loss did not improve from 1.54703\n",
      "375/375 [==============================] - 25s 65ms/step - loss: 0.6575 - acc: 0.7888 - val_loss: 1.8635 - val_acc: 0.4575\n",
      "Epoch 15/30\n",
      "375/375 [==============================] - ETA: 0s - loss: 0.5418 - acc: 0.8295\n",
      "Epoch 15: val_loss did not improve from 1.54703\n",
      "375/375 [==============================] - 25s 66ms/step - loss: 0.5418 - acc: 0.8295 - val_loss: 1.9874 - val_acc: 0.4565\n",
      "Epoch 16/30\n",
      "374/375 [============================>.] - ETA: 0s - loss: 0.4300 - acc: 0.8636\n",
      "Epoch 16: val_loss did not improve from 1.54703\n",
      "375/375 [==============================] - 24s 63ms/step - loss: 0.4300 - acc: 0.8637 - val_loss: 2.1479 - val_acc: 0.4415\n",
      "Epoch 17/30\n",
      "375/375 [==============================] - ETA: 0s - loss: 0.3417 - acc: 0.8952\n",
      "Epoch 17: val_loss did not improve from 1.54703\n",
      "375/375 [==============================] - 24s 65ms/step - loss: 0.3417 - acc: 0.8952 - val_loss: 2.3304 - val_acc: 0.4570\n",
      "Epoch 18/30\n",
      "375/375 [==============================] - ETA: 0s - loss: 0.2611 - acc: 0.9240\n",
      "Epoch 18: val_loss did not improve from 1.54703\n",
      "375/375 [==============================] - 24s 63ms/step - loss: 0.2611 - acc: 0.9240 - val_loss: 2.3699 - val_acc: 0.4715\n",
      "Epoch 19/30\n",
      "374/375 [============================>.] - ETA: 0s - loss: 0.1993 - acc: 0.9416\n",
      "Epoch 19: val_loss did not improve from 1.54703\n",
      "375/375 [==============================] - 24s 65ms/step - loss: 0.1993 - acc: 0.9416 - val_loss: 2.5797 - val_acc: 0.4535\n",
      "Epoch 20/30\n",
      "375/375 [==============================] - ETA: 0s - loss: 0.1460 - acc: 0.9580\n",
      "Epoch 20: val_loss did not improve from 1.54703\n",
      "375/375 [==============================] - 24s 64ms/step - loss: 0.1460 - acc: 0.9580 - val_loss: 2.9079 - val_acc: 0.4575\n",
      "Epoch 21/30\n",
      "375/375 [==============================] - ETA: 0s - loss: 0.1174 - acc: 0.9687\n",
      "Epoch 21: val_loss did not improve from 1.54703\n",
      "375/375 [==============================] - 25s 66ms/step - loss: 0.1174 - acc: 0.9687 - val_loss: 3.0813 - val_acc: 0.4440\n",
      "Epoch 22/30\n",
      "374/375 [============================>.] - ETA: 0s - loss: 0.0868 - acc: 0.9749\n",
      "Epoch 22: val_loss did not improve from 1.54703\n",
      "375/375 [==============================] - 24s 64ms/step - loss: 0.0869 - acc: 0.9748 - val_loss: 3.1509 - val_acc: 0.4535\n",
      "Epoch 23/30\n",
      "375/375 [==============================] - ETA: 0s - loss: 0.0622 - acc: 0.9832\n",
      "Epoch 23: val_loss did not improve from 1.54703\n",
      "375/375 [==============================] - 25s 66ms/step - loss: 0.0622 - acc: 0.9832 - val_loss: 3.5882 - val_acc: 0.4495\n",
      "Epoch 24/30\n",
      "375/375 [==============================] - ETA: 0s - loss: 0.0637 - acc: 0.9821\n",
      "Epoch 24: val_loss did not improve from 1.54703\n",
      "375/375 [==============================] - 24s 65ms/step - loss: 0.0637 - acc: 0.9821 - val_loss: 3.8157 - val_acc: 0.4300\n",
      "Epoch 25/30\n",
      "375/375 [==============================] - ETA: 0s - loss: 0.0580 - acc: 0.9820\n",
      "Epoch 25: val_loss did not improve from 1.54703\n",
      "375/375 [==============================] - 25s 67ms/step - loss: 0.0580 - acc: 0.9820 - val_loss: 3.6508 - val_acc: 0.4610\n",
      "Epoch 26/30\n",
      "375/375 [==============================] - ETA: 0s - loss: 0.0442 - acc: 0.9881\n",
      "Epoch 26: val_loss did not improve from 1.54703\n",
      "375/375 [==============================] - 25s 66ms/step - loss: 0.0442 - acc: 0.9881 - val_loss: 4.0834 - val_acc: 0.4445\n",
      "Epoch 27/30\n",
      "375/375 [==============================] - ETA: 0s - loss: 0.0370 - acc: 0.9891\n",
      "Epoch 27: val_loss did not improve from 1.54703\n",
      "375/375 [==============================] - 25s 66ms/step - loss: 0.0370 - acc: 0.9891 - val_loss: 4.2257 - val_acc: 0.4445\n",
      "Epoch 28/30\n",
      "375/375 [==============================] - ETA: 0s - loss: 0.0305 - acc: 0.9912\n",
      "Epoch 28: val_loss did not improve from 1.54703\n",
      "375/375 [==============================] - 24s 64ms/step - loss: 0.0305 - acc: 0.9912 - val_loss: 4.2890 - val_acc: 0.4680\n",
      "Epoch 29/30\n",
      "375/375 [==============================] - ETA: 0s - loss: 0.0310 - acc: 0.9919\n",
      "Epoch 29: val_loss did not improve from 1.54703\n",
      "375/375 [==============================] - 25s 67ms/step - loss: 0.0310 - acc: 0.9919 - val_loss: 4.1353 - val_acc: 0.4600\n",
      "Epoch 30/30\n",
      "375/375 [==============================] - ETA: 0s - loss: 0.0294 - acc: 0.9916\n",
      "Epoch 30: val_loss did not improve from 1.54703\n",
      "375/375 [==============================] - 24s 64ms/step - loss: 0.0294 - acc: 0.9916 - val_loss: 4.3793 - val_acc: 0.4600\n"
     ]
    }
   ],
   "source": [
    "# Train the Model\n",
    "from keras.callbacks import ModelCheckpoint\n",
    "\n",
    "# Checkpoint\n",
    "mc = ModelCheckpoint(\n",
    "    'Baseline.keras',\n",
    "    monitor='val_loss',\n",
    "    mode='min',\n",
    "    verbose=1,\n",
    "    save_best_only=True\n",
    ")\n",
    "\n",
    "base_history = base_model.fit(\n",
    "    train_generator,\n",
    "    epochs=30,\n",
    "    validation_data=validation_generator,\n",
    "    callbacks=[mc]\n",
    ")\n"
   ]
  },
  {
   "cell_type": "code",
   "execution_count": 9,
   "metadata": {},
   "outputs": [
    {
     "data": {
      "image/png": "[encoded data removed]",
      "text/plain": [
       "<Figure size 640x480 with 1 Axes>"
      ]
     },
     "metadata": {},
     "output_type": "display_data"
    },
    {
     "data": {
      "image/png": "[encoded data removed]",
      "text/plain": [
       "<Figure size 640x480 with 1 Axes>"
      ]
     },
     "metadata": {},
     "output_type": "display_data"
    }
   ],
   "source": [
    "# Plot the Training and Validation Accuracy & Loss Scores\n",
    "acc = base_history.history['acc']\n",
    "val_acc = base_history.history['val_acc']\n",
    "loss = base_history.history['loss']\n",
    "val_loss = base_history.history['val_loss']\n",
    "\n",
    "epochs = range(len(acc))\n",
    "\n",
    "plt.plot(epochs, acc, 'bo', label='Training acc')\n",
    "plt.plot(epochs, val_acc, 'b', label='Validation acc')\n",
    "plt.title('Training and validation accuracy')\n",
    "plt.legend()\n",
    "\n",
    "plt.figure()\n",
    "\n",
    "plt.plot(epochs, loss, 'bo', label='Training loss')\n",
    "plt.plot(epochs, val_loss, 'b', label='Validation loss')\n",
    "plt.title('Training and validation loss')\n",
    "plt.legend()\n",
    "\n",
    "plt.show()"
   ]
  },
  {
   "cell_type": "code",
   "execution_count": 1,
   "metadata": {},
   "outputs": [
    {
     "name": "stdout",
     "output_type": "stream",
     "text": [
      "Found 500 images belonging to 10 classes.\n",
      "25/25 [==============================] - 5s 64ms/step - loss: 2.0786 - acc: 0.2560\n",
      "Test Loss: 2.078618049621582\n",
      "Test Accuracy: 0.25600001215934753\n"
     ]
    }
   ],
   "source": [
    "from tensorflow import keras\n",
    "import os\n",
    "from tensorflow.keras.preprocessing.image import ImageDataGenerator\n",
    "\n",
    "test_dir = os.path.join(os.getcwd(), 'test')\n",
    "img_size = 224\n",
    "base_test = keras.models.load_model('Baseline.keras')\n",
    "\n",
    "test_datagen = ImageDataGenerator(rescale=1./255)\n",
    "\n",
    "test_generator = test_datagen.flow_from_directory(\n",
    "    test_dir,\n",
    "    target_size=(img_size, img_size),\n",
    "    batch_size=20,\n",
    "    class_mode='categorical')\n",
    "\n",
    "evaluation_results = base_test.evaluate(test_generator, steps=len(test_generator))\n",
    "\n",
    "print(\"Test Loss:\", evaluation_results[0])\n",
    "print(\"Test Accuracy:\", evaluation_results[1])"
   ]
  },
  {
   "cell_type": "code",
   "execution_count": null,
   "metadata": {},
   "outputs": [],
   "source": []
  }
 ],
 "metadata": {
  "kernelspec": {
   "display_name": "Python 3 (ipykernel)",
   "language": "python",
   "name": "python3"
  },
  "language_info": {
   "codemirror_mode": {
    "name": "ipython",
    "version": 3
   },
   "file_extension": ".py",
   "mimetype": "text/x-python",
   "name": "python",
   "nbconvert_exporter": "python",
   "pygments_lexer": "ipython3",
   "version": "3.9.18"
  }
 },
 "nbformat": 4,
 "nbformat_minor": 2
}
